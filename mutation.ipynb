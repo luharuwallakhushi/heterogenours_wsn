{
  "cells": [
    {
      "cell_type": "code",
      "metadata": {},
      "source": [
        "import random\n",
        "\"\"\"\n",
        "import crossover\n",
        "\n",
        "#print(\"Enter mutation probability as a percentage:\")\n",
        "mutation_probab=20#float(input())\n",
        "mutation_probab/=100\n",
        "\"\"\"\n",
        "def mutation(chromosome,mutation_probab):\n",
        "\tcheck= random.random()\n",
        "\t#print(check)\n",
        "\tchromo=list(chromosome)\n",
        "\tif check<=(mutation_probab) :\n",
        "\t\tpos=int(random.randint(0,(len(chromosome)-1)))\n",
        "\t\t#print(pos)\n",
        "\t\tif chromo[pos]=='1' :\n",
        "\t\t\tchromo[pos]='0'\n",
        "\t\telse :\n",
        "\t\t\tchromo[pos]='1'\n",
        "\tchromo=''.join([str(elem) for elem in chromo]) \n",
        "\treturn chromo\n",
        "\n",
        "\"\"\"#print(mutation(\"100011100001111\"))\n",
        "def generate_new_mutated_pop():\n",
        "\tnew_pop=crossover.new_population()\n",
        "\tmutated_new_pop=[]\n",
        "\tfor i in new_pop :\n",
        "\t\tmutated_new_pop.append(mutation(i))\n",
        "\treturn mutated_new_pop\n",
        "\"\"\"\n",
        "\n",
        "\n",
        "\n",
        "\n",
        "\n",
        "\n",
        "\"\"\"print(\"writing in file  new population\" )\n",
        "f=open(\"Initial_population.txt\",\"w\")\n",
        "for i in generate_new_mutated_pop():\n",
        "\tprint(i)\n",
        "\tf.write(i)\n",
        "\tf.write(\"\\n\")\n",
        "f.close()\n",
        "\"\"\"\n"
      ],
      "outputs": [],
      "execution_count": null
    }
  ],
  "metadata": {
    "anaconda-cloud": {},
    "kernelspec": {
      "display_name": "Python 3",
      "language": "python",
      "name": "python3"
    },
    "language_info": {
      "codemirror_mode": {
        "name": "ipython",
        "version": 3
      },
      "file_extension": ".py",
      "mimetype": "text/x-python",
      "name": "python",
      "nbconvert_exporter": "python",
      "pygments_lexer": "ipython3",
      "version": "3.6.1"
    }
  },
  "nbformat": 4,
  "nbformat_minor": 4
}