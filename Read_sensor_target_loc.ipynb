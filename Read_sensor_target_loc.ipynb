{
  "cells": [
    {
      "cell_type": "code",
      "metadata": {},
      "source": [
        "\n",
        "def loc(tar,loc):\n",
        "\tf2=open(loc,'r')\n",
        "\tf1=open(tar,'r')\n",
        "\t#Target Locations\n",
        "\tTt=f1.readlines()\n",
        "\tT=[]\n",
        "\tP=[]\n",
        "\tfor l in Tt:\n",
        "\t    row = l.split()\n",
        "\t    T.append([float(row[0]),float(row[1])])\n",
        "\n",
        "\t#Potential positions for sensor nodes\n",
        "\tPp=f2.readlines()\n",
        "\tsensor_data={}\n",
        "\tfor l in Pp:\n",
        "\t\trow = l.split()\n",
        "\t\tP.append([float(row[0]),float(row[1])])\n",
        "\t\tsensor_data[str([float(row[0]),float(row[1])])]=[float(row[2]),float(row[3])]\n",
        "\tf1.close()\n",
        "\tf2.close()\n",
        "\treturn T,P,sensor_data\n",
        "\"\"\"\n",
        "T \t\t#set of target points\n",
        "P \t\t# the set of given potential positions.\n",
        "\"\"\"\n"
      ],
      "outputs": [],
      "execution_count": null
    }
  ],
  "metadata": {
    "anaconda-cloud": {},
    "kernelspec": {
      "display_name": "Python 3",
      "language": "python",
      "name": "python3"
    },
    "language_info": {
      "codemirror_mode": {
        "name": "ipython",
        "version": 3
      },
      "file_extension": ".py",
      "mimetype": "text/x-python",
      "name": "python",
      "nbconvert_exporter": "python",
      "pygments_lexer": "ipython3",
      "version": "3.6.1"
    }
  },
  "nbformat": 4,
  "nbformat_minor": 4
}