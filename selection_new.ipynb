{
  "cells": [
    {
      "cell_type": "code",
      "metadata": {},
      "source": [
        "import random\n",
        "def select(population_fitness_dictionary):\n",
        "    # Get population size\n",
        "\n",
        "    \n",
        "    # Pick individuals for tournament\n",
        "    fighter_1,fighter_1_fitness = random.choice(list(population_fitness_dictionary.items()))\n",
        "    fighter_2,fighter_2_fitness = random.choice(list(population_fitness_dictionary.items()))\n",
        "    \n",
        "    \n",
        "    \n",
        "    # Identify undividual with highest fitness\n",
        "    # Fighter 1 will win if score are equal\n",
        "    if fighter_1_fitness >= fighter_2_fitness:\n",
        "        winner = fighter_1\n",
        "    else:\n",
        "        winner = fighter_2\n",
        "\n",
        "    return winner"
      ],
      "outputs": [],
      "execution_count": null
    }
  ],
  "metadata": {
    "anaconda-cloud": {},
    "kernelspec": {
      "display_name": "Python 3",
      "language": "python",
      "name": "python3"
    },
    "language_info": {
      "codemirror_mode": {
        "name": "ipython",
        "version": 3
      },
      "file_extension": ".py",
      "mimetype": "text/x-python",
      "name": "python",
      "nbconvert_exporter": "python",
      "pygments_lexer": "ipython3",
      "version": "3.6.1"
    }
  },
  "nbformat": 4,
  "nbformat_minor": 4
}