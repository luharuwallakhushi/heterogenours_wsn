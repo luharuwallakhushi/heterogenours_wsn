{
  "cells": [
    {
      "cell_type": "code",
      "metadata": {},
      "source": [
        "import random\n",
        "import time\n",
        "def Initial_population(completeName,K,Psize):\n",
        "\tf1=open(completeName,\"w\")\n",
        "\tInitial_population=[]\n",
        "\t\n",
        "\t\n",
        "\tfor i in range(Psize) :\n",
        "\t\tX=\"\"\n",
        "\t\tfor j in range(K) :\n",
        "\t\t\tX+=str(random.randrange(0,2))\n",
        "\t\tf1.write(str(X))\n",
        "\t\tf1.write(\"\\n\")\n",
        "\t\tInitial_population.append(X)\n",
        "\tf1.close()\t\n",
        "\ttime.sleep(5)\n",
        "\treturn Initial_population\n",
        "\n",
        "\n",
        "#Initial_population(300,60)"
      ],
      "outputs": [],
      "execution_count": null
    }
  ],
  "metadata": {
    "anaconda-cloud": {},
    "kernelspec": {
      "display_name": "Python 3",
      "language": "python",
      "name": "python3"
    },
    "language_info": {
      "codemirror_mode": {
        "name": "ipython",
        "version": 3
      },
      "file_extension": ".py",
      "mimetype": "text/x-python",
      "name": "python",
      "nbconvert_exporter": "python",
      "pygments_lexer": "ipython3",
      "version": "3.6.1"
    }
  },
  "nbformat": 4,
  "nbformat_minor": 4
}