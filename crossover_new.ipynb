{
  "cells": [
    {
      "cell_type": "code",
      "metadata": {},
      "source": [
        "import random\n",
        "import selection_new\n",
        "\"\"\"\n",
        "import inition_pop_generate\n",
        "#print(\"Enter crossover probability as a percentage:\")\n",
        "crossover_probab=80#float(input())\"\"\"\n",
        "def Crossover(parent1,parent2,point):\n",
        "    p1,p2 = list(parent1),list(parent2) #convert str to list\n",
        "    for i in range(point,len(p1)):\n",
        "        p1[i],p2[i] = p2[i],p1[i]       #swap the genetic information\n",
        "    p1,p2 = ''.join(p1),''.join(p2)     #Convert list to str\n",
        "    return p1,p2\n",
        "\n",
        "def parents_select(crossover_probab,popu,population_fitness_dictionary) :\n",
        "    \n",
        "    #print(parents)\n",
        "    parent1 = selection_new.select(population_fitness_dictionary)       #parents' Chromosomes\n",
        "    parent2 = selection_new.select(population_fitness_dictionary)\n",
        "    #print('Parent1:',parent1)\n",
        "    #print('Parent2:',parent2)\n",
        "    point = random.randint(1,len(parent1))  #Crossover point\n",
        "    #print('Crossover Point:',point)\n",
        "    check= random.random()\n",
        "    if check>=(crossover_probab/100) :\n",
        "        offspring1,offspring2 = Crossover(parent1,parent2,point)\n",
        "    else :\n",
        "        offspring1,offspring2 = parent1,parent2\n",
        "    #print('Offspring1:',offspring1)         #Offspring Chromosomes\n",
        "\n",
        "    #print('Offspring2:',offspring2)\n",
        "    return [offspring1,offspring2]\n",
        "\n",
        "\n",
        "\n",
        "\n",
        "def new_population(Psize,crossover_probab,popu,population_fitness_dictionary):\n",
        "    new_pop=[]\n",
        "    size_pop=int(Psize/2)\n",
        "    for i in range(size_pop):\n",
        "        new_pop+=parents_select(crossover_probab,popu,population_fitness_dictionary)\n",
        "    #print(new_pop)\n",
        "    return new_pop"
      ],
      "outputs": [],
      "execution_count": null
    }
  ],
  "metadata": {
    "anaconda-cloud": {},
    "kernelspec": {
      "display_name": "Python 3",
      "language": "python",
      "name": "python3"
    },
    "language_info": {
      "codemirror_mode": {
        "name": "ipython",
        "version": 3
      },
      "file_extension": ".py",
      "mimetype": "text/x-python",
      "name": "python",
      "nbconvert_exporter": "python",
      "pygments_lexer": "ipython3",
      "version": "3.6.1"
    }
  },
  "nbformat": 4,
  "nbformat_minor": 4
}