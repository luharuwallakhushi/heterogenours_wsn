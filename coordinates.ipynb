{
  "cells": [
    {
      "cell_type": "code",
      "metadata": {},
      "source": [
        "import random\n",
        "from datetime import datetime\n",
        "import random\n",
        "import os\n",
        "def coo(path,N,n,g1,g2):\n",
        "\t#N=100#number of sensors\n",
        "\t#n=100#no. of targets\n",
        "\ta=0#inital coordinate\n",
        "\tb=500#final coordinate\n",
        "\tx=random.sample(range(a,b),(N+n))\n",
        "\ty=random.sample(range(a,b),(N+n))\n",
        "\tcount=1\n",
        "\tloc=random.sample(range(1,N),int(float(N*g1)/100))\n",
        "\tx=[(i+(i/2.984)/100) for i in x]\n",
        "\ty=[(i+(i/7.496)/100) for i in y]\n",
        "\t#print(x)\n",
        "\tfor it in range(2) :\n",
        "\t\ttarg=\"target\"+str(it)+\".txt\"\n",
        "\t\tloca=\"location\"+str(it)+\".txt\"\n",
        "\t\tcompleteName_tar = os. path. join(path,targ )\n",
        "\t\tcompleteName_loc = os. path. join(path,loca )\n",
        "\t\tf1=open(completeName_tar,\"w\")\n",
        "\t\tf2=open(completeName_loc,\"w\")\n",
        "\t\t\n",
        "\t\tk=0\n",
        "\t\tfor i in range((N+n)):\n",
        "\t\t\tif i<n:\n",
        "\t\t\t\tf1.write(str(x[i])+\" \"+str(y[i])+\"\\n\")\n",
        "\t\t\telse :\n",
        "\t\t\t\tif count in loc: \n",
        "\t\t\t\t\tf2.write(str(x[i])+\" \"+str(y[i])+\" 40 70\\n\")\n",
        "\t\t\t\t\tk+=1\n",
        "\t\t\t\telse:\n",
        "\t\t\t\t\tf2.write(str(x[i])+\" \"+str(y[i])+\" 50 80\\n\")\n",
        "\t\t\t\tcount+=1\n",
        "\t\t#print(k)\n",
        "\t\tf1.close()\n",
        "\t\tf2.close()\n",
        "\n",
        "\n",
        "\n",
        "\n",
        "#datetime.now()"
      ],
      "outputs": [],
      "execution_count": null
    }
  ],
  "metadata": {
    "anaconda-cloud": {},
    "kernelspec": {
      "display_name": "Python 3",
      "language": "python",
      "name": "python3"
    },
    "language_info": {
      "codemirror_mode": {
        "name": "ipython",
        "version": 3
      },
      "file_extension": ".py",
      "mimetype": "text/x-python",
      "name": "python",
      "nbconvert_exporter": "python",
      "pygments_lexer": "ipython3",
      "version": "3.6.1"
    }
  },
  "nbformat": 4,
  "nbformat_minor": 4
}